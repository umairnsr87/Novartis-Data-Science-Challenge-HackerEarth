{
 "cells": [
  {
   "cell_type": "code",
   "execution_count": 6,
   "metadata": {},
   "outputs": [],
   "source": [
    "import pandas as pd \n",
    "import numpy as np\n",
    "import seaborn as sns\n",
    "import matplotlib.pyplot as plt\n",
    "import warnings\n",
    "warnings.filterwarnings(\"ignore\")\n",
    "from sklearn.linear_model import LogisticRegression\n",
    "import scipy.stats as st\n",
    "import sklearn.metrics as metrics\n",
    "from sklearn.model_selection import train_test_split,KFold,StratifiedKFold,GridSearchCV,RandomizedSearchCV,cross_val_score\n",
    "from sklearn.ensemble import RandomForestClassifier,BaggingClassifier,AdaBoostClassifier,GradientBoostingClassifier\n",
    "from sklearn.tree import DecisionTreeClassifier\n",
    "from sklearn.naive_bayes import GaussianNB\n",
    "from sklearn.neighbors import KNeighborsClassifier\n",
    "from sklearn.metrics import r2_score,roc_auc_score,recall_score,classification_report,mean_squared_error,accuracy_score,confusion_matrix"
   ]
  },
  {
   "cell_type": "code",
   "execution_count": 2,
   "metadata": {},
   "outputs": [],
   "source": [
    "#loading the data\n",
    "data_train=pd.read_csv(\"cleaned_data.csv\")\n",
    "data_test=pd.read_csv(\"cleaned_data_test.csv\")\n"
   ]
  },
  {
   "cell_type": "code",
   "execution_count": 3,
   "metadata": {},
   "outputs": [
    {
     "name": "stdout",
     "output_type": "stream",
     "text": [
      "(19083, 15) (19083,)\n",
      "(4771, 15) (4771,)\n"
     ]
    }
   ],
   "source": [
    "train,val=train_test_split(data_train,test_size=.20,random_state=42)\n",
    "train.shape,val.shape\n",
    "\n",
    "Xfull=train.drop([\"INCIDENT_ID\",\"MULTIPLE_OFFENSE\",\"DATE\"],axis=1)\n",
    "yfull=train[\"MULTIPLE_OFFENSE\"]\n",
    "Xtest=data_test.drop([\"INCIDENT_ID\",\"DATE\"],axis=1)\n",
    "\n",
    "\n",
    "Xtrain=train.drop([\"INCIDENT_ID\",\"MULTIPLE_OFFENSE\",\"DATE\"],axis=1)\n",
    "ytrain=train[\"MULTIPLE_OFFENSE\"]\n",
    "print(Xtrain.shape,ytrain.shape)\n",
    "\n",
    "Xval=val.drop([\"MULTIPLE_OFFENSE\",\"INCIDENT_ID\",\"DATE\"],axis=1)\n",
    "yval=val[\"MULTIPLE_OFFENSE\"]\n",
    "print(Xval.shape,yval.shape)"
   ]
  },
  {
   "cell_type": "code",
   "execution_count": 4,
   "metadata": {},
   "outputs": [],
   "source": [
    "\n",
    "lrc = LogisticRegression()\n",
    "rfc=RandomForestClassifier()\n",
    "adbc=AdaBoostClassifier()\n",
    "bgc=BaggingClassifier()\n",
    "gnb = GaussianNB()\n",
    "knn=KNeighborsClassifier()\n",
    "dtc = DecisionTreeClassifier()\n",
    "ab_rfc = AdaBoostClassifier(base_estimator=rfc,random_state=42)\n",
    "ab_dtc = AdaBoostClassifier(base_estimator=dtc,random_state=42)\n",
    "ab_nbc=  AdaBoostClassifier(base_estimator=gnb,random_state=42)\n",
    "ab_lrc=  AdaBoostClassifier(base_estimator=lrc,random_state=42)\n",
    "bgcl_lrc = BaggingClassifier(base_estimator=lrc, random_state=42)\n"
   ]
  },
  {
   "cell_type": "code",
   "execution_count": 9,
   "metadata": {},
   "outputs": [
    {
     "data": {
      "text/html": [
       "<div>\n",
       "<style scoped>\n",
       "    .dataframe tbody tr th:only-of-type {\n",
       "        vertical-align: middle;\n",
       "    }\n",
       "\n",
       "    .dataframe tbody tr th {\n",
       "        vertical-align: top;\n",
       "    }\n",
       "\n",
       "    .dataframe thead th {\n",
       "        text-align: right;\n",
       "    }\n",
       "</style>\n",
       "<table border=\"1\" class=\"dataframe\">\n",
       "  <thead>\n",
       "    <tr style=\"text-align: right;\">\n",
       "      <th></th>\n",
       "      <th>names</th>\n",
       "      <th>auc_score</th>\n",
       "      <th>training</th>\n",
       "      <th>testing</th>\n",
       "      <th>precision</th>\n",
       "      <th>recall</th>\n",
       "    </tr>\n",
       "  </thead>\n",
       "  <tbody>\n",
       "    <tr>\n",
       "      <td>0</td>\n",
       "      <td>Random Forest</td>\n",
       "      <td>0.999364</td>\n",
       "      <td>1.000000</td>\n",
       "      <td>0.993502</td>\n",
       "      <td>0.994345</td>\n",
       "      <td>0.998908</td>\n",
       "    </tr>\n",
       "    <tr>\n",
       "      <td>1</td>\n",
       "      <td>Decistion Tree</td>\n",
       "      <td>0.999454</td>\n",
       "      <td>1.000000</td>\n",
       "      <td>0.998952</td>\n",
       "      <td>1.000000</td>\n",
       "      <td>0.998908</td>\n",
       "    </tr>\n",
       "    <tr>\n",
       "      <td>2</td>\n",
       "      <td>Ada boost</td>\n",
       "      <td>0.999700</td>\n",
       "      <td>0.996175</td>\n",
       "      <td>0.996437</td>\n",
       "      <td>0.997817</td>\n",
       "      <td>0.998471</td>\n",
       "    </tr>\n",
       "    <tr>\n",
       "      <td>3</td>\n",
       "      <td>Bagging</td>\n",
       "      <td>0.999608</td>\n",
       "      <td>0.999790</td>\n",
       "      <td>0.997275</td>\n",
       "      <td>0.999781</td>\n",
       "      <td>0.997378</td>\n",
       "    </tr>\n",
       "    <tr>\n",
       "      <td>4</td>\n",
       "      <td>KNN</td>\n",
       "      <td>0.852580</td>\n",
       "      <td>0.974952</td>\n",
       "      <td>0.971075</td>\n",
       "      <td>0.974353</td>\n",
       "      <td>0.996067</td>\n",
       "    </tr>\n",
       "    <tr>\n",
       "      <td>5</td>\n",
       "      <td>Logistic Regression</td>\n",
       "      <td>0.875039</td>\n",
       "      <td>0.954200</td>\n",
       "      <td>0.961224</td>\n",
       "      <td>0.965254</td>\n",
       "      <td>0.995412</td>\n",
       "    </tr>\n",
       "    <tr>\n",
       "      <td>6</td>\n",
       "      <td>bagged LR</td>\n",
       "      <td>0.869761</td>\n",
       "      <td>0.954619</td>\n",
       "      <td>0.959757</td>\n",
       "      <td>0.964808</td>\n",
       "      <td>0.994319</td>\n",
       "    </tr>\n",
       "    <tr>\n",
       "      <td>7</td>\n",
       "      <td>Naive-Bayes</td>\n",
       "      <td>0.887816</td>\n",
       "      <td>0.934339</td>\n",
       "      <td>0.937120</td>\n",
       "      <td>0.971347</td>\n",
       "      <td>0.962858</td>\n",
       "    </tr>\n",
       "  </tbody>\n",
       "</table>\n",
       "</div>"
      ],
      "text/plain": [
       "                 names  auc_score  training   testing  precision    recall\n",
       "0        Random Forest   0.999364  1.000000  0.993502   0.994345  0.998908\n",
       "1       Decistion Tree   0.999454  1.000000  0.998952   1.000000  0.998908\n",
       "2            Ada boost   0.999700  0.996175  0.996437   0.997817  0.998471\n",
       "3              Bagging   0.999608  0.999790  0.997275   0.999781  0.997378\n",
       "4                  KNN   0.852580  0.974952  0.971075   0.974353  0.996067\n",
       "5  Logistic Regression   0.875039  0.954200  0.961224   0.965254  0.995412\n",
       "6            bagged LR   0.869761  0.954619  0.959757   0.964808  0.994319\n",
       "7          Naive-Bayes   0.887816  0.934339  0.937120   0.971347  0.962858"
      ]
     },
     "execution_count": 9,
     "metadata": {},
     "output_type": "execute_result"
    }
   ],
   "source": [
    "models=[lrc,rfc,adbc,bgc,gnb,knn,dtc,bgcl_lrc]\n",
    "sctr,scte,auc,ps,rs=[],[],[],[],[]\n",
    "def ensemble_for_train_val(X_train,X_test, y_train, y_test):\n",
    "    for model in models:\n",
    "            model.fit(X_train, y_train)\n",
    "            y_test_pred = model.predict(X_test)\n",
    "            y_test_pred_new=model.predict_proba(X_test)\n",
    "            y_test_pred_new=y_test_pred_new[:,1]\n",
    "            train_score=model.score(X_train,y_train)\n",
    "            test_score=model.score(X_test,y_test)\n",
    "            p_score=metrics.precision_score(y_test,y_test_pred)\n",
    "            r_score=metrics.recall_score(y_test,y_test_pred)\n",
    "            \n",
    "            ac=metrics.roc_auc_score(y_test,y_test_pred_new)\n",
    "            \n",
    "            sctr.append(train_score)\n",
    "            scte.append(test_score)\n",
    "            ps.append(p_score)\n",
    "            rs.append(r_score)\n",
    "            auc.append(ac)\n",
    "    return sctr,scte,auc,ps,rs\n",
    "\n",
    "ensemble_for_train_val(Xtrain,Xval, ytrain, yval)\n",
    "# 'ab_rf','ab_dt','ab_nb','ab_lr','bgcl_lr'\n",
    "ensemble=pd.DataFrame({'names':['Logistic Regression','Random Forest','Ada boost','Bagging',\n",
    "                                'Naive-Bayes','KNN','Decistion Tree',\n",
    "                                'bagged LR'],\n",
    "                       'auc_score':auc,'training':sctr,'testing':scte,'precision':ps,'recall':rs})\n",
    "ensemble=ensemble.sort_values(by='recall',ascending=False).reset_index(drop=True)\n",
    "ensemble"
   ]
  },
  {
   "cell_type": "code",
   "execution_count": 38,
   "metadata": {},
   "outputs": [],
   "source": [
    "models=[lrc,rfc,adbc,bgc,gnb,knn,dtc,bgcl_lrc]\n",
    "# predlrc=[],pred=dtc[],predrfc=[],predadbc=[],predbgc=[],predgnb=[],predknn=[],preddtc=[],predbgcl_lrc=[]\n",
    "predictions=pd.DataFrame(data_test['INCIDENT_ID'])\n",
    "def pred_on_full_data(Xtrain,ytrain,Xtest):\n",
    "    for model in models:\n",
    "        print(model.__class__.__name__)\n",
    "        model.fit(Xtrain, ytrain)\n",
    "        y_test_pred = model.predict(Xtest)\n",
    "        predictions=pd.concat([data_test['INCIDENT_ID'],pd.DataFrame(y_test_pred,columns=['MULTIPLE_OFFENSE'])],1)\n",
    "        a=\"submission_base\"+model.__class__.__name__+\".csv\"\n",
    "        predictions.to_csv(a,index=False)"
   ]
  },
  {
   "cell_type": "code",
   "execution_count": 39,
   "metadata": {},
   "outputs": [
    {
     "name": "stdout",
     "output_type": "stream",
     "text": [
      "LogisticRegression\n",
      "RandomForestClassifier\n",
      "AdaBoostClassifier\n",
      "BaggingClassifier\n",
      "GaussianNB\n",
      "KNeighborsClassifier\n",
      "DecisionTreeClassifier\n",
      "BaggingClassifier\n"
     ]
    }
   ],
   "source": [
    "pred_on_full_data(Xfull,yfull,Xtest)"
   ]
  }
 ],
 "metadata": {
  "kernelspec": {
   "display_name": "Python 3",
   "language": "python",
   "name": "python3"
  },
  "language_info": {
   "codemirror_mode": {
    "name": "ipython",
    "version": 3
   },
   "file_extension": ".py",
   "mimetype": "text/x-python",
   "name": "python",
   "nbconvert_exporter": "python",
   "pygments_lexer": "ipython3",
   "version": "3.7.4"
  }
 },
 "nbformat": 4,
 "nbformat_minor": 2
}
