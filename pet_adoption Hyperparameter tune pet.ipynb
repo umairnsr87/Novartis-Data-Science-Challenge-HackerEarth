{
 "cells": [
  {
   "cell_type": "code",
   "execution_count": 18,
   "metadata": {},
   "outputs": [],
   "source": [
    "import pandas as pd \n",
    "import numpy as np\n",
    "import seaborn as sns\n",
    "import matplotlib.pyplot as plt\n",
    "import warnings\n",
    "warnings.filterwarnings(\"ignore\")\n",
    "from lightgbm import LGBMClassifier\n",
    "from sklearn.preprocessing import OrdinalEncoder\n",
    "from sklearn.linear_model import LogisticRegression\n",
    "import scipy.stats as st\n",
    "import sklearn.metrics as metrics\n",
    "from catboost import CatBoostClassifier\n",
    "from sklearn.model_selection import train_test_split,KFold,StratifiedKFold,GridSearchCV,RandomizedSearchCV,cross_val_score\n",
    "from sklearn.ensemble import RandomForestClassifier,BaggingClassifier,AdaBoostClassifier,GradientBoostingClassifier\n",
    "from sklearn.tree import DecisionTreeClassifier\n",
    "from xgboost import XGBClassifier\n",
    "from sklearn.naive_bayes import GaussianNB\n",
    "from sklearn.neighbors import KNeighborsClassifier\n",
    "from sklearn.metrics import r2_score,roc_auc_score,recall_score,classification_report,mean_squared_error,accuracy_score,f1_score,confusion_matrix\n",
    "from sklearn.preprocessing import LabelEncoder\n",
    "from sklearn.ensemble import RandomForestClassifier"
   ]
  },
  {
   "cell_type": "code",
   "execution_count": 19,
   "metadata": {},
   "outputs": [],
   "source": [
    "train=pd.read_csv(\"train_mod.csv\")\n",
    "test=pd.read_csv(\"test_mod.csv\")\n",
    "\n",
    "#label encoding the features for the modelling process\n",
    "le=LabelEncoder()\n",
    "le.fit(train[\"color_type\"])\n",
    "# train[\"color_type\"]=le.fit_transform(train[\"color_type\"])\n",
    "train[\"color_type\"]=le.transform(train[\"color_type\"])\n",
    "test[\"color_type\"]=le.transform(test[\"color_type\"])"
   ]
  },
  {
   "cell_type": "code",
   "execution_count": 20,
   "metadata": {},
   "outputs": [
    {
     "data": {
      "text/plain": [
       "((14125, 9), (14125,), (4709, 9), (4709,), (18834, 9), (8072, 9))"
      ]
     },
     "execution_count": 20,
     "metadata": {},
     "output_type": "execute_result"
    }
   ],
   "source": [
    "train_set,val_set=train_test_split(train,test_size=.25,random_state=42)\n",
    "train_set.shape,val_set.shape\n",
    "\n",
    "#-------------------------------------------------------------------------------\n",
    "#train_set\n",
    "train_data=train_set.drop(['pet_id', 'issue_date', 'listing_date','breed_category', 'pet_category','days_stayed']\n",
    "                          ,axis=1)\n",
    "train_res_breed=train_set.breed_category\n",
    "train_res_pet=train_set.pet_category\n",
    "\n",
    "#-------------------------------------------------------------------------------\n",
    "#val_set\n",
    "val_data=val_set.drop(['pet_id', 'issue_date', 'listing_date','breed_category', 'pet_category','days_stayed'],\n",
    "                     axis=1)\n",
    "val_res_breed=val_set.breed_category\n",
    "val_res_pet=val_set.pet_category\n",
    "#-------------------------------------------------------------------------------\n",
    "train_full=train.drop(['pet_id', 'issue_date', 'listing_date','breed_category', 'pet_category','days_stayed']\n",
    "                          ,axis=1)\n",
    "train_full_breed=train.breed_category\n",
    "train_full_pet=train.pet_category\n",
    "test_full=test.drop(['pet_id', 'issue_date', 'listing_date','days_stayed']\n",
    "                          ,axis=1)\n",
    "\n",
    "#-------------------------------------------------------------------------------\n",
    "\n",
    "train_data.shape,train_res_breed.shape,val_data.shape,val_res_breed.shape,train_full.shape,test_full.shape"
   ]
  },
  {
   "cell_type": "code",
   "execution_count": 21,
   "metadata": {},
   "outputs": [],
   "source": [
    "lgbc=LGBMClassifier()"
   ]
  },
  {
   "cell_type": "code",
   "execution_count": 22,
   "metadata": {},
   "outputs": [],
   "source": [
    "models=[lgbc]\n",
    "sctr,scte,auc,ps,rs=[],[],[],[],[]\n",
    "def ensemble_for_train_val(X_train,y_train,X_test, y_test):\n",
    "    for model in models:\n",
    "        print(model.__class__.__name__)\n",
    "        model.fit(X_train, y_train)\n",
    "        y_test_pred = model.predict(X_test)\n",
    "        y_test_pred_new=model.predict_proba(X_test)\n",
    "        y_test_pred_new=y_test_pred_new[:,1]\n",
    "        train_score=model.score(X_train,y_train)\n",
    "        test_score=model.score(X_test,y_test)\n",
    "        p_score=metrics.precision_score(y_test,y_test_pred,average='micro')\n",
    "        r_score=metrics.recall_score(y_test,y_test_pred,average='micro')\n",
    "        \n",
    "        sctr.append(train_score)\n",
    "        scte.append(test_score)\n",
    "        ps.append(p_score)\n",
    "        rs.append(r_score)\n",
    "    return sctr,scte,ps,rs\n",
    "\n",
    "\n"
   ]
  },
  {
   "cell_type": "code",
   "execution_count": 23,
   "metadata": {},
   "outputs": [
    {
     "name": "stdout",
     "output_type": "stream",
     "text": [
      "LGBMClassifier\n"
     ]
    },
    {
     "data": {
      "text/html": [
       "<div>\n",
       "<style scoped>\n",
       "    .dataframe tbody tr th:only-of-type {\n",
       "        vertical-align: middle;\n",
       "    }\n",
       "\n",
       "    .dataframe tbody tr th {\n",
       "        vertical-align: top;\n",
       "    }\n",
       "\n",
       "    .dataframe thead th {\n",
       "        text-align: right;\n",
       "    }\n",
       "</style>\n",
       "<table border=\"1\" class=\"dataframe\">\n",
       "  <thead>\n",
       "    <tr style=\"text-align: right;\">\n",
       "      <th></th>\n",
       "      <th>names</th>\n",
       "      <th>training</th>\n",
       "      <th>testing</th>\n",
       "      <th>precision</th>\n",
       "      <th>recall</th>\n",
       "    </tr>\n",
       "  </thead>\n",
       "  <tbody>\n",
       "    <tr>\n",
       "      <td>0</td>\n",
       "      <td>lgbc</td>\n",
       "      <td>0.976212</td>\n",
       "      <td>0.901253</td>\n",
       "      <td>0.901253</td>\n",
       "      <td>0.901253</td>\n",
       "    </tr>\n",
       "  </tbody>\n",
       "</table>\n",
       "</div>"
      ],
      "text/plain": [
       "  names  training   testing  precision    recall\n",
       "0  lgbc  0.976212  0.901253   0.901253  0.901253"
      ]
     },
     "execution_count": 23,
     "metadata": {},
     "output_type": "execute_result"
    }
   ],
   "source": [
    "\n",
    "ensemble_for_train_val(train_data,train_res_breed, val_data, val_res_breed)\n",
    "# 'ab_rf','ab_dt','ab_nb','ab_lr','bgcl_lr'\n",
    "\n",
    "ensemble=pd.DataFrame({'names':[\"lgbc\"],\n",
    "                       'training':sctr,'testing':scte,'precision':ps,'recall':rs,})\n",
    "\n",
    "ensemble=ensemble.sort_values(by='precision',ascending=False).reset_index(drop=True)\n",
    "ensemble"
   ]
  },
  {
   "cell_type": "code",
   "execution_count": null,
   "metadata": {},
   "outputs": [
    {
     "name": "stdout",
     "output_type": "stream",
     "text": [
      "Fitting 3 folds for each of 36 candidates, totalling 108 fits\n"
     ]
    },
    {
     "name": "stderr",
     "output_type": "stream",
     "text": [
      "[Parallel(n_jobs=-1)]: Using backend LokyBackend with 4 concurrent workers.\n"
     ]
    }
   ],
   "source": [
    "\n",
    "# ensemble_for_train_val(train_data,train_res_pet, val_data, val_res_pet)\n",
    "# # 'ab_rf','ab_dt','ab_nb','ab_lr','bgcl_lr'\n",
    "\n",
    "# ensemble=pd.DataFrame({'names':[\"lgbc\"],\n",
    "#                        'training':sctr,'testing':scte,'precision':ps,'recall':rs,})\n",
    "\n",
    "# ensemble=ensemble.sort_values(by='precision',ascending=False).reset_index(drop=True)\n",
    "# ensemble\n",
    "\n",
    "param_dict={\n",
    "    'boosting_type' :[\"dart\"],\n",
    "    'is_unbalance':[True],\n",
    "    'n_estimators':[400,500,600],\n",
    "    'num_leaves':[10,20], \n",
    "    'max_depth':[8,10,12],\n",
    "#     'feature_fraction':[0.5,.75],  \n",
    "#     'bagging_fraction':[0.8,.5], \n",
    "#     'bagging_freq':[15,20], \n",
    "    'learning_rate':[0.01,.1]\n",
    "}\n",
    "\n",
    "gridSearchCV = GridSearchCV(estimator = lgbc, \n",
    "    param_grid = param_dict, \n",
    "    scoring='accuracy',\n",
    "    n_jobs=-1,\n",
    "    iid=False, \n",
    "    verbose=1,\n",
    "    cv=3)\n",
    "gridSearchCV.fit(train_full,train_full_pet)\n",
    "gridSearchCV.best_params_, gridSearchCV.best_score_"
   ]
  },
  {
   "cell_type": "code",
   "execution_count": null,
   "metadata": {},
   "outputs": [],
   "source": [
    "gridSearchCV.best_params_, gridSearchCV.best_score_"
   ]
  }
 ],
 "metadata": {
  "kernelspec": {
   "display_name": "Python 3",
   "language": "python",
   "name": "python3"
  },
  "language_info": {
   "codemirror_mode": {
    "name": "ipython",
    "version": 3
   },
   "file_extension": ".py",
   "mimetype": "text/x-python",
   "name": "python",
   "nbconvert_exporter": "python",
   "pygments_lexer": "ipython3",
   "version": "3.7.4"
  }
 },
 "nbformat": 4,
 "nbformat_minor": 2
}
