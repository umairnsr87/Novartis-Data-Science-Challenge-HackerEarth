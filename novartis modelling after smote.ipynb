{
 "cells": [
  {
   "cell_type": "code",
   "execution_count": 1,
   "metadata": {},
   "outputs": [],
   "source": [
    "import pandas as pd \n",
    "import numpy as np\n",
    "import seaborn as sns\n",
    "import matplotlib.pyplot as plt\n",
    "import warnings\n",
    "warnings.filterwarnings(\"ignore\")\n",
    "from sklearn.linear_model import LogisticRegression\n",
    "import scipy.stats as st\n",
    "import sklearn.metrics as metrics\n",
    "from sklearn.model_selection import train_test_split,KFold,StratifiedKFold,GridSearchCV,RandomizedSearchCV,cross_val_score\n",
    "from sklearn.ensemble import RandomForestClassifier,BaggingClassifier,AdaBoostClassifier,GradientBoostingClassifier\n",
    "from sklearn.tree import DecisionTreeClassifier\n",
    "from xgboost import XGBClassifier\n",
    "from sklearn.naive_bayes import GaussianNB\n",
    "from sklearn.neighbors import KNeighborsClassifier\n",
    "from sklearn.metrics import r2_score,roc_auc_score,recall_score,classification_report,mean_squared_error,accuracy_score,confusion_matrix"
   ]
  },
  {
   "cell_type": "code",
   "execution_count": 6,
   "metadata": {},
   "outputs": [
    {
     "data": {
      "text/plain": [
       "((45572, 16), (15903, 15))"
      ]
     },
     "execution_count": 6,
     "metadata": {},
     "output_type": "execute_result"
    }
   ],
   "source": [
    "#loading the data\n",
    "data_train_smote=pd.read_csv(\"full_train_after_smote.csv\")\n",
    "data_test_smote=pd.read_csv(\"cleaned_data_test_feature_engineered.csv\")\n",
    "\n",
    "\n",
    "#dropping the feature engineered data from test\n",
    "data_test_smote=data_test_smote.drop([\"YEAR\",\"INCIDENT_ID\",\"MONTH\",\"DAY\",\"DATE\"],axis=1)\n",
    "data_train_smote=data_train_smote.drop([\"INCIDENT_ID\"],axis=1)\n",
    "\n",
    "print(data_train_smote.shape,data_test_smote.shape)\n",
    "\n",
    "\n",
    "#splitting into train and validation\n",
    "train,val=train_test_split(data_train_smote,test_size=.20,random_state=42)\n",
    "train.shape,val.shape\n",
    "\n",
    "\n",
    "#splitting into x and y\n",
    "Xfull=data_train_smote.drop([\"MULTIPLE_OFFENSE\"],axis=1)\n",
    "yfull=data_train_smote[\"MULTIPLE_OFFENSE\"]\n",
    "print(Xfull.shape,yfull.shape)\n",
    "\n",
    "\n",
    "Xtrain=train.drop([\"MULTIPLE_OFFENSE\"],axis=1)\n",
    "ytrain=train[\"MULTIPLE_OFFENSE\"]\n",
    "print(Xtrain.shape,ytrain.shape)\n",
    "\n",
    "Xval=val.drop([\"MULTIPLE_OFFENSE\"],axis=1)\n",
    "yval=val[\"MULTIPLE_OFFENSE\"]\n",
    "print(Xval.shape,yval.shape)\n"
   ]
  },
  {
   "cell_type": "code",
   "execution_count": 13,
   "metadata": {},
   "outputs": [],
   "source": [
    "lrc = LogisticRegression(class_weight=\"balanced\")\n",
    "rfc=RandomForestClassifier(class_weight=\"balanced\")\n",
    "adbc=AdaBoostClassifier()\n",
    "bgc=BaggingClassifier()\n",
    "gnb = GaussianNB()\n",
    "knn=KNeighborsClassifier()\n",
    "dtc = DecisionTreeClassifier()\n",
    "bgcl_lrc = BaggingClassifier(base_estimator=lrc, random_state=42)\n",
    "ab_rfc = AdaBoostClassifier(base_estimator=rfc,random_state=42)\n",
    "ab_dtc = AdaBoostClassifier(base_estimator=dtc,random_state=42)\n",
    "ab_nbc=  AdaBoostClassifier(base_estimator=gnb,random_state=42)\n",
    "ab_lrc=  AdaBoostClassifier(base_estimator=lrc,random_state=42)\n",
    "gbc=GradientBoostingClassifier()\n",
    "ab_gbc=  AdaBoostClassifier(base_estimator=gbc,random_state=42)\n",
    "xgbc=XGBClassifier()\n",
    "ab_xgbc=  AdaBoostClassifier(base_estimator=xgbc,random_state=42)"
   ]
  },
  {
   "cell_type": "code",
   "execution_count": null,
   "metadata": {},
   "outputs": [],
   "source": [
    "\n",
    "\n",
    "models=[lrc,rfc,adbc,bgc,gnb,knn,dtc,bgcl_lrc,ab_rfc,ab_dtc,ab_nbc,ab_lrc,gbc,ab_gbc,xgbc,ab_xgbc]\n",
    "sctr,scte,auc,ps,rs=[],[],[],[],[]\n",
    "def ensemble_for_train_val(X_train,X_test, y_train, y_test):\n",
    "    for model in models:\n",
    "            model.fit(X_train, y_train)\n",
    "            y_test_pred = model.predict(X_test)\n",
    "            y_test_pred_new=model.predict_proba(X_test)\n",
    "            y_test_pred_new=y_test_pred_new[:,1]\n",
    "            train_score=model.score(X_train,y_train)\n",
    "            test_score=model.score(X_test,y_test)\n",
    "            p_score=metrics.precision_score(y_test,y_test_pred)\n",
    "            r_score=metrics.recall_score(y_test,y_test_pred)\n",
    "            \n",
    "            ac=metrics.roc_auc_score(y_test,y_test_pred_new)\n",
    "            \n",
    "            sctr.append(train_score)\n",
    "            scte.append(test_score)\n",
    "            ps.append(p_score)\n",
    "            rs.append(r_score)\n",
    "            auc.append(ac)\n",
    "    return sctr,scte,auc,ps,rs\n",
    "\n",
    "\n",
    "#checking the performance on train and validation\n",
    "ensemble_for_train_val(Xtrain,Xval, ytrain, yval)\n",
    "# 'ab_rf','ab_dt','ab_nb','ab_lr','bgcl_lr'\n",
    "ensemble=pd.DataFrame({'names':['Logistic Regression','Random Forest','Ada boost','Bagging',\n",
    "                                'Naive-Bayes','KNN','Decistion Tree',\n",
    "                                'bagged LR',\"adaboost rf\",\"adaboost dtc\",\"adaboost naive bayes\",\n",
    "                                \"adaboost logistic regression\",\"gradient boosting trees\",\"adaboost gbc\",\"xgboost\",\"adaboost xgbc\"],\n",
    "                       'auc_score':auc,'training':sctr,'testing':scte,'precision':ps,'recall':rs})\n",
    "ensemble=ensemble.sort_values(by='auc_score',ascending=False).reset_index(drop=True)\n",
    "ensemble"
   ]
  },
  {
   "cell_type": "code",
   "execution_count": null,
   "metadata": {},
   "outputs": [],
   "source": [
    "ensemble=ensemble.sort_values(by='auc_score',ascending=False).reset_index(drop=True)\n",
    "ensemble"
   ]
  }
 ],
 "metadata": {
  "kernelspec": {
   "display_name": "Python 3",
   "language": "python",
   "name": "python3"
  },
  "language_info": {
   "codemirror_mode": {
    "name": "ipython",
    "version": 3
   },
   "file_extension": ".py",
   "mimetype": "text/x-python",
   "name": "python",
   "nbconvert_exporter": "python",
   "pygments_lexer": "ipython3",
   "version": "3.7.4"
  }
 },
 "nbformat": 4,
 "nbformat_minor": 2
}
